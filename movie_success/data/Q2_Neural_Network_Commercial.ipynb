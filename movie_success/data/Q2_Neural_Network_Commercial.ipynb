{
 "cells": [
  {
   "cell_type": "code",
   "execution_count": 37,
   "metadata": {},
   "outputs": [],
   "source": [
    "import numpy as np\n",
    "import pandas as pd\n",
    "import re\n",
    "import sys\n",
    "from scipy import stats\n",
    "import matplotlib.pyplot as plt\n",
    "from sklearn.linear_model import LinearRegression\n",
    "from sklearn.preprocessing import MinMaxScaler, StandardScaler\n",
    "from sklearn.model_selection import train_test_split\n",
    "from sklearn.neural_network import MLPClassifier\n",
    "from sklearn.pipeline import make_pipeline\n",
    "from sklearn.naive_bayes import GaussianNB\n",
    "from sklearn.ensemble import RandomForestClassifier\n",
    "from sklearn.neighbors import KNeighborsClassifier\n",
    "from sklearn.tree import DecisionTreeClassifier\n",
    "from sklearn.svm import SVC\n",
    "from sklearn.metrics import accuracy_score\n",
    "import statsmodels.api as sm\n",
    "from math import log10\n",
    "from nltk.tokenize import RegexpTokenizer\n",
    "from pandas.core import datetools\n",
    "import seaborn\n",
    "seaborn.set()"
   ]
  },
  {
   "cell_type": "code",
   "execution_count": 8,
   "metadata": {},
   "outputs": [],
   "source": [
    "def inflation_correct(x):\n",
    "    year_difference = 2019 - business['year']\n",
    "    money_value = (1.0297) ** year_difference\n",
    "    return x * money_value\n",
    "\n",
    "def getyear(x):\n",
    "    return x[0:4]\n",
    "\n",
    "def corr_points(x):\n",
    "    oscar_win = re.search(r'Won (\\d+) Oscar', x)\n",
    "    oscar_nominated = re.search(r'Nominated for (\\d+) Oscar', x)\n",
    "    GoldenG_win = re.search(r'Won (\\d+) Golden', x)\n",
    "    GoldenG_nominated = re.search(r'Nominated for (\\d+) Golden', x)\n",
    "    minor_wins = re.search(r'(\\d+) win', x)\n",
    "    minor_nominations = re.search(r'(\\d+) nomination', x)\n",
    "    score = 0\n",
    "    if oscar_win:\n",
    "        score = score + 10 * int(oscar_win.group(1))\n",
    "    if oscar_nominated:\n",
    "        score = score + 5 * int(oscar_nominated.group(1))\n",
    "    if GoldenG_win:\n",
    "        score = score + 7 * int(GoldenG_win.group(1))\n",
    "    if GoldenG_nominated:\n",
    "        score = score + 3 * int(GoldenG_nominated.group(1))\n",
    "    if minor_wins:\n",
    "        score = score + int(minor_wins.group(1))\n",
    "    if minor_nominations:\n",
    "        score = score + 0.25 * int(minor_nominations.group(1))\n",
    "    return score\n",
    "\n",
    "def transfer_to_number(x): \n",
    "    # transfer a dataframe column to number matrix\n",
    "    types =[]\n",
    "    type_size = 0\n",
    "    for i in range(len(x)):\n",
    "        for j in x[i]:\n",
    "            if j not in types:\n",
    "                types.append(j)\n",
    "                type_size = type_size + 1\n",
    "                \n",
    "    two_D_array = [x[:] for x in [[0] * len(types)] * len(x)] \n",
    "    \n",
    "    for i in range(len(x)):\n",
    "        for j in x[i]:\n",
    "            index = 0\n",
    "            while j != types[index]:\n",
    "                index = index + 1\n",
    "            two_D_array[i][index] = 1        \n",
    "    \n",
    "    print('There are ', len(two_D_array[0]), ' different types in total.')\n",
    "    print('There are ', len(two_D_array), ' records collected.')\n",
    "    \n",
    "    return two_D_array\n",
    "\n",
    "def remove_rare_data(x,y,z):\n",
    "    # remove the elements in attribute 'y', which occurs fewer than 'z' times ,from dataframe 'x'\n",
    "    x_size = len(x[y])\n",
    "    types = []\n",
    "    times = []\n",
    "    x1 = []\n",
    "    y1 =[]\n",
    "    mark = [[] for i in range(len(x[y]))]\n",
    "    for i in range(x_size):\n",
    "        for j in range(len(x[y][i])):\n",
    "                if x[y][i][j] not in types:\n",
    "                    types.append(x[y][i][j])\n",
    "                    times.append(1)\n",
    "                    x1.append([i])\n",
    "                    y1.append([j])\n",
    "                else:\n",
    "                    index = types.index(x[y][i][j])\n",
    "                    times[index] = times[index] + 1 \n",
    "                    x1[index].append(i)\n",
    "                    y1[index].append(j)\n",
    "    for i in range(len(times)):\n",
    "        if times[i] <= z:\n",
    "            for j in range(times[i]):\n",
    "                mark[x1[i][j]].append(y1[i][j])\n",
    "    for i in range(x_size):\n",
    "        if len(mark[i]) != 0:\n",
    "            for j in sorted(mark[i], reverse=True):\n",
    "                del x[y][i][j] \n",
    "    for i in range(x_size):\n",
    "        if len(x[y][i]) == 0:\n",
    "            x = x.drop(i)\n",
    "    x = x.reset_index(drop = True)\n",
    "    print('Remove rare elements in ', y,  ' successfully')\n",
    "    return x\n",
    "\n",
    "def remove_rare_data_array(x, y):\n",
    "    measure = y\n",
    "    \n",
    "    # basically the same process as transfer_to_number() function\n",
    "    types =[]\n",
    "    type_size = 0\n",
    "    for i in range(len(x)):\n",
    "        for j in x[i]:\n",
    "            if j not in types:\n",
    "                types.append(j)\n",
    "                type_size = type_size + 1\n",
    "                \n",
    "    two_D_array = [x[:] for x in [[0] * len(types)] * len(x)] \n",
    "    \n",
    "    for i in range(len(x)):\n",
    "        for j in x[i]:\n",
    "            index = 0\n",
    "            while j != types[index]:\n",
    "                index = index + 1\n",
    "            two_D_array[i][index] = 1    \n",
    "\n",
    "    sum = [0]* len(two_D_array[0])\n",
    "    # print(sum)\n",
    "    for i in range(len(two_D_array)):\n",
    "        for j in range(len(two_D_array[0])):   \n",
    "            if two_D_array[i][j] == 1:\n",
    "                # if there is a score (record) on this genre, mark it\n",
    "                sum[j] = sum[j] + 1\n",
    "    \n",
    "    x_more_than_y_times = len(types)\n",
    "    \n",
    "    # if that element (e.g. director) appears only once, we set the whole column to be -1 \n",
    "    for i in range(len(sum)):\n",
    "        if sum[i] <= measure:\n",
    "            x_more_than_y_times = x_more_than_y_times - 1\n",
    "            for j in range(len(two_D_array)):\n",
    "                two_D_array[j][i] = -1\n",
    "    \n",
    "    # delete the whole -1 column\n",
    "    for i in range(len(two_D_array)):\n",
    "        two_D_array[i] = [e for e in two_D_array[i] if e not in (-2, -1)]\n",
    "    \n",
    "    # remove movies with all 0's in a row. (No director)\n",
    "    two_D_array = [v for v in two_D_array if sum(v) != 0]\n",
    "    return two_D_array\n",
    "\n",
    "def extract_first_2(x):\n",
    "    if len(x) <= 2:\n",
    "        return x\n",
    "    else:\n",
    "        return x[:2]\n",
    "    \n",
    "def extract_first_3(x):\n",
    "    if len(x) <= 3:\n",
    "        return x\n",
    "    else:\n",
    "        return x[:3]\n",
    "\n",
    "def extract_first_4(x):\n",
    "    if len(x) <= 4:\n",
    "        return x\n",
    "    else:\n",
    "        return x[:4]\n",
    "\n",
    "def to_list(x):\n",
    "    return [x]\n",
    "\n",
    "def combine_list(x,y):\n",
    "    #combine two 2d lists together\n",
    "    for i in range(len(x)):\n",
    "        x[i].extend(y[i])\n",
    "    return x\n",
    "\n",
    "def model_test(model,X_test,y_test,a):\n",
    "    # Using model \"model\" and input data \"X_test\", \"y_test\"\n",
    "    accept = 0\n",
    "    real = np.asarray(y_test, dtype=\"float64\")\n",
    "    predict = np.asarray(model.predict(X_test), dtype=\"float64\")\n",
    "    difference = np.absolute(real - predict)\n",
    "    for i in range(real.size):\n",
    "        if difference[i] <= a:\n",
    "            accept = accept + 1\n",
    "    score = accept/real.size\n",
    "    print ('The corrected score for testing data is: ', score)\n",
    "    return 0"
   ]
  },
  {
   "cell_type": "code",
   "execution_count": 5,
   "metadata": {},
   "outputs": [],
   "source": [
    "wiki = pd.read_json('wiki-company.json.gz', orient='record', lines=True)\n",
    "rt = pd.read_json('rotten-tomatoes.json.gz', orient='record', lines=True)\n",
    "omdb = pd.read_json('omdb-data.json.gz', orient='record', lines=True)\n",
    "data_temp = wiki.merge(rt, on = 'rotten_tomatoes_id')\n",
    "data = data_temp.merge(omdb, left_on = 'imdb_id_x', right_on = 'imdb_id')"
   ]
  },
  {
   "cell_type": "code",
   "execution_count": 9,
   "metadata": {},
   "outputs": [
    {
     "name": "stdout",
     "output_type": "stream",
     "text": [
      "<class 'pandas.core.frame.DataFrame'>\n",
      "Int64Index: 9612 entries, 0 to 9611\n",
      "Data columns (total 30 columns):\n",
      "based_on              2076 non-null object\n",
      "cast_member           8583 non-null object\n",
      "country_of_origin     9586 non-null object\n",
      "director              8886 non-null object\n",
      "enwiki_title          9612 non-null object\n",
      "filming_location      4254 non-null object\n",
      "genre                 9612 non-null object\n",
      "imdb_id_x             9612 non-null object\n",
      "label                 9612 non-null object\n",
      "made_profit           850 non-null float64\n",
      "main_subject          2940 non-null object\n",
      "metacritic_id         5223 non-null object\n",
      "nbox                  985 non-null float64\n",
      "ncost                 1071 non-null float64\n",
      "original_language     9508 non-null object\n",
      "production_company    5161 non-null object\n",
      "publication_date      9610 non-null object\n",
      "rotten_tomatoes_id    9612 non-null object\n",
      "series                601 non-null object\n",
      "wikidata_id           9612 non-null object\n",
      "audience_average      8751 non-null float64\n",
      "audience_percent      8751 non-null float64\n",
      "audience_ratings      9351 non-null float64\n",
      "critic_average        6605 non-null float64\n",
      "critic_percent        6605 non-null float64\n",
      "imdb_id_y             9612 non-null object\n",
      "imdb_id               9612 non-null object\n",
      "omdb_awards           9612 non-null object\n",
      "omdb_genres           9612 non-null object\n",
      "omdb_plot             9612 non-null object\n",
      "dtypes: float64(8), object(22)\n",
      "memory usage: 2.3+ MB\n"
     ]
    }
   ],
   "source": [
    "data.info()"
   ]
  },
  {
   "cell_type": "code",
   "execution_count": 15,
   "metadata": {},
   "outputs": [],
   "source": [
    "business =  data[['director','cast_member','genre','production_company','ncost', 'nbox','publication_date']]\n",
    "business = business.dropna(subset = ['director','cast_member','genre','production_company','ncost', 'nbox','publication_date']).reset_index(drop = True)"
   ]
  },
  {
   "cell_type": "code",
   "execution_count": 17,
   "metadata": {},
   "outputs": [],
   "source": [
    "business['year'] = business['publication_date'].apply(getyear)\n",
    "business['year'] = pd.to_numeric(business['year'])\n",
    "business['profit'] = business['nbox'] - business['ncost']\n",
    "business['year_difference'] = 2019 - business['year']\n",
    "business['money_value'] = (1.0297) ** business['year_difference']\n",
    "business['profit'] = business['profit']*business['money_value']"
   ]
  },
  {
   "cell_type": "code",
   "execution_count": 19,
   "metadata": {},
   "outputs": [],
   "source": [
    "business['director'] = business['director'].apply(extract_first_2)\n",
    "business['cast_member'] = business['cast_member'].apply(extract_first_4)\n",
    "business['genre'] = business['genre'].apply(extract_first_3)"
   ]
  },
  {
   "cell_type": "code",
   "execution_count": 20,
   "metadata": {},
   "outputs": [
    {
     "name": "stdout",
     "output_type": "stream",
     "text": [
      "Remove rare elements in  cast_member  successfully\n",
      "Remove rare elements in  director  successfully\n"
     ]
    }
   ],
   "source": [
    "business = remove_rare_data(business, 'cast_member', 1)\n",
    "business = remove_rare_data(business, 'director', 1)"
   ]
  },
  {
   "cell_type": "code",
   "execution_count": 41,
   "metadata": {},
   "outputs": [
    {
     "data": {
      "text/plain": [
       "392"
      ]
     },
     "execution_count": 41,
     "metadata": {},
     "output_type": "execute_result"
    }
   ],
   "source": [
    "len(business)"
   ]
  },
  {
   "cell_type": "code",
   "execution_count": 22,
   "metadata": {},
   "outputs": [
    {
     "name": "stdout",
     "output_type": "stream",
     "text": [
      "There are  135  different types in total.\n",
      "There are  392  records collected.\n",
      "There are  128  different types in total.\n",
      "There are  392  records collected.\n",
      "There are  473  different types in total.\n",
      "There are  392  records collected.\n",
      "There are  93  different types in total.\n",
      "There are  392  records collected.\n"
     ]
    }
   ],
   "source": [
    "business['production_company'] = business['production_company'].apply(to_list)\n",
    "\n",
    "company = transfer_to_number(business['production_company'])\n",
    "director = transfer_to_number(business['director'])\n",
    "cast_member= transfer_to_number(business['cast_member'])\n",
    "genre = transfer_to_number(business['genre'])"
   ]
  },
  {
   "cell_type": "code",
   "execution_count": 24,
   "metadata": {},
   "outputs": [],
   "source": [
    "X = combine_list(director,cast_member)\n",
    "X = combine_list(X, genre)\n",
    "X = combine_list(X, company)\n",
    "y_1 = np.asarray(business['profit'], dtype=\"|S6\")"
   ]
  },
  {
   "cell_type": "code",
   "execution_count": 32,
   "metadata": {},
   "outputs": [
    {
     "name": "stdout",
     "output_type": "stream",
     "text": [
      "The corrected score for testing data is:  0.9795918367346939\n"
     ]
    },
    {
     "data": {
      "text/plain": [
       "0.9965986394557823"
      ]
     },
     "execution_count": 32,
     "metadata": {},
     "output_type": "execute_result"
    }
   ],
   "source": [
    "X_train_1, X_test_1, y_train_1, y_test_1 = train_test_split(X, y_1)\n",
    "model = MLPClassifier(solver='lbfgs', hidden_layer_sizes=(20))\n",
    "model.fit(X_train_1, y_train_1)\n",
    "model.predict(X_test_1)\n",
    "model_test(model, X_test_1,y_test_1,888888)\n",
    "model.score(X_train_1, y_train_1)"
   ]
  },
  {
   "cell_type": "code",
   "execution_count": 35,
   "metadata": {},
   "outputs": [],
   "source": [
    "model_forest = RandomForestClassifier(n_estimators = 100, max_depth = 5, min_samples_leaf = 5)"
   ]
  },
  {
   "cell_type": "code",
   "execution_count": 36,
   "metadata": {},
   "outputs": [
    {
     "name": "stdout",
     "output_type": "stream",
     "text": [
      "The corrected score for testing data is:  0.9897959183673469\n"
     ]
    },
    {
     "data": {
      "text/plain": [
       "0.40816326530612246"
      ]
     },
     "execution_count": 36,
     "metadata": {},
     "output_type": "execute_result"
    }
   ],
   "source": [
    "model_forest.fit(X_train_1, y_train_1)\n",
    "model_test(model_forest, X_test_1,y_test_1,888888)\n",
    "model_forest.score(X_train_1, y_train_1)"
   ]
  },
  {
   "cell_type": "code",
   "execution_count": 40,
   "metadata": {},
   "outputs": [
    {
     "name": "stdout",
     "output_type": "stream",
     "text": [
      "The corrected score for testing data is:  0.9693877551020408\n"
     ]
    },
    {
     "data": {
      "text/plain": [
       "0.14965986394557823"
      ]
     },
     "execution_count": 40,
     "metadata": {},
     "output_type": "execute_result"
    }
   ],
   "source": [
    "model_tree = DecisionTreeClassifier(max_depth=20)\n",
    "model_tree.fit(X_train_1, y_train_1)\n",
    "model_test(model_tree, X_test_1,y_test_1,888888)\n",
    "model_tree.score(X_train_1, y_train_1)"
   ]
  },
  {
   "cell_type": "code",
   "execution_count": null,
   "metadata": {},
   "outputs": [],
   "source": []
  }
 ],
 "metadata": {
  "kernelspec": {
   "display_name": "Python 3",
   "language": "python",
   "name": "python3"
  },
  "language_info": {
   "codemirror_mode": {
    "name": "ipython",
    "version": 3
   },
   "file_extension": ".py",
   "mimetype": "text/x-python",
   "name": "python",
   "nbconvert_exporter": "python",
   "pygments_lexer": "ipython3",
   "version": "3.7.3"
  }
 },
 "nbformat": 4,
 "nbformat_minor": 2
}

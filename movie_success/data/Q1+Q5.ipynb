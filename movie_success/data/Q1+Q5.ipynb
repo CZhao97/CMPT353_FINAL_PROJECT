{
 "cells": [
  {
   "cell_type": "code",
   "execution_count": 1,
   "metadata": {},
   "outputs": [
    {
     "name": "stderr",
     "output_type": "stream",
     "text": [
      "/home/zwa117/sfuhome/cmpt-353/anaconda3/lib/python3.6/site-packages/statsmodels/compat/pandas.py:56: FutureWarning: The pandas.core.datetools module is deprecated and will be removed in a future version. Please use the pandas.tseries module instead.\n",
      "  from pandas.core import datetools\n"
     ]
    }
   ],
   "source": [
    "import numpy as np\n",
    "import pandas as pd\n",
    "from scipy import stats\n",
    "import matplotlib.pyplot as plt\n",
    "from sklearn.linear_model import LinearRegression\n",
    "from sklearn.preprocessing import MinMaxScaler, StandardScaler\n",
    "from sklearn.model_selection import train_test_split\n",
    "from sklearn.pipeline import make_pipeline\n",
    "from sklearn.naive_bayes import GaussianNB\n",
    "from sklearn.neighbors import KNeighborsClassifier\n",
    "from sklearn.svm import SVC\n",
    "from sklearn.metrics import accuracy_score\n",
    "import statsmodels.api as sm\n",
    "from math import log10\n",
    "from nltk.tokenize import RegexpTokenizer\n",
    "import seaborn\n",
    "seaborn.set()"
   ]
  },
  {
   "cell_type": "code",
   "execution_count": 2,
   "metadata": {},
   "outputs": [],
   "source": [
    "wiki = pd.read_json('wiki-company.json.gz', orient='record', lines=True)\n",
    "rt = pd.read_json('rotten-tomatoes.json.gz', orient='record', lines=True)\n",
    "omdb = pd.read_json('omdb-data.json.gz', orient='record', lines=True)"
   ]
  },
  {
   "cell_type": "code",
   "execution_count": 3,
   "metadata": {},
   "outputs": [],
   "source": [
    "# drop NaN columns in 'nbox' and 'ncost'\n",
    "wiki_dropNA = wiki.dropna(subset=['nbox', 'ncost', 'publication_date'])\n",
    "# We want to get Profit by 'nbox' and 'ncost'\n",
    "wiki_dropNA_box = wiki_dropNA[['nbox','ncost', 'publication_date','rotten_tomatoes_id']]\n",
    "\n",
    "# we want to get only reviews from audiences and critics\n",
    "rt_reviews = rt[['audience_average', 'audience_percent', 'audience_ratings', 'critic_average', 'critic_percent', 'rotten_tomatoes_id']]\n",
    "\n",
    "# Merge (join) these two tables by common Rotten Tomatoes ID\n",
    "wiki_join_rt = wiki_dropNA_box.merge(rt_reviews, left_on='rotten_tomatoes_id', right_on='rotten_tomatoes_id', suffixes=('_wiki', '_rt'))"
   ]
  },
  {
   "cell_type": "code",
   "execution_count": 4,
   "metadata": {},
   "outputs": [],
   "source": [
    "# Calculate the profit (Or, loss if nbox < ncost)\n",
    "wiki_join_rt['profit'] = wiki_join_rt['nbox'] - wiki_join_rt['ncost']\n",
    "\n",
    "# Filter data a little bit. We just keep movies with more than 40 reviews (Discard very uncommon movies)\n",
    "wiki_join_rt = wiki_join_rt[wiki_join_rt['audience_ratings']>=40]\n",
    "wiki_join_rt = wiki_join_rt.dropna(subset=['critic_average', 'critic_percent'])\n",
    "\n",
    "# Note that there are 817 movies remained, which is not bad though\n",
    "# wiki_join_rt   # just have a look"
   ]
  },
  {
   "cell_type": "code",
   "execution_count": 5,
   "metadata": {},
   "outputs": [],
   "source": [
    "# Inflation adjustment on the profit\n",
    "\n",
    "def getyear(x):\n",
    "    return x[0:4]\n",
    "\n",
    "wiki_join_rt['year'] = wiki_join_rt['publication_date'].apply(getyear)\n",
    "wiki_join_rt['year'] = pd.to_numeric(wiki_join_rt['year'])\n",
    "\n",
    "# wiki_join_rt['year'].min()\n",
    "# This shows the oldest movie comes from 1927\n",
    "# Through the research on references, from 1927 to 2019, the value of US dollars has an inflation of 2.97% per year on average.\n",
    "# We adjust this number according to year differences compared to 2019\n",
    "\n",
    "def inflation_correct(x):\n",
    "    year_difference = 2019 - wiki_join_rt['year']\n",
    "    money_value = (1.0297) ** year_difference\n",
    "    return x * money_value\n",
    "\n",
    "wiki_join_rt['year_difference'] = 2019 - wiki_join_rt['year']\n",
    "wiki_join_rt['money_value'] = (1.0297) ** wiki_join_rt['year_difference']\n",
    "# wiki_join_rt['profit'] = wiki_join_rt['profit'].apply(inflation_correct)\n",
    "# Calculate the \"real\" profit for each movie, based on its publication year and real value of money.\n",
    "wiki_join_rt['profit'] = wiki_join_rt['profit']*wiki_join_rt['money_value']\n",
    "\n",
    "# Do a correction on cost according to year as well:\n",
    "wiki_join_rt['corr_ncost'] = wiki_join_rt['ncost']*wiki_join_rt['money_value']\n",
    "wiki_join_rt['profit_rate'] = wiki_join_rt['profit'] / wiki_join_rt['corr_ncost']\n"
   ]
  },
  {
   "cell_type": "code",
   "execution_count": 24,
   "metadata": {},
   "outputs": [
    {
     "name": "stdout",
     "output_type": "stream",
     "text": [
      "<class 'pandas.core.frame.DataFrame'>\n",
      "Int64Index: 816 entries, 0 to 876\n",
      "Data columns (total 16 columns):\n",
      "nbox                  816 non-null float64\n",
      "ncost                 816 non-null float64\n",
      "publication_date      816 non-null object\n",
      "rotten_tomatoes_id    816 non-null object\n",
      "audience_average      816 non-null float64\n",
      "audience_percent      816 non-null float64\n",
      "audience_ratings      816 non-null float64\n",
      "critic_average        816 non-null float64\n",
      "critic_percent        816 non-null float64\n",
      "profit                816 non-null float64\n",
      "year                  816 non-null int64\n",
      "year_difference       816 non-null int64\n",
      "money_value           816 non-null float64\n",
      "corr_ncost            816 non-null float64\n",
      "profit_rate           816 non-null float64\n",
      "prediction            816 non-null float64\n",
      "dtypes: float64(12), int64(2), object(2)\n",
      "memory usage: 108.4+ KB\n"
     ]
    }
   ],
   "source": [
    "wiki_join_rt.info()"
   ]
  },
  {
   "cell_type": "code",
   "execution_count": null,
   "metadata": {},
   "outputs": [],
   "source": []
  },
  {
   "cell_type": "code",
   "execution_count": null,
   "metadata": {},
   "outputs": [],
   "source": []
  },
  {
   "cell_type": "code",
   "execution_count": 6,
   "metadata": {},
   "outputs": [
    {
     "name": "stdout",
     "output_type": "stream",
     "text": [
      "4963602.191703152 -99452796.008239\n",
      "6.931008046416733e-13\n",
      "0.24767871552667778\n",
      "0.06134474612494498\n"
     ]
    },
    {
     "data": {
      "image/png": "[encoded data removed]",
      "text/plain": [
       "<matplotlib.figure.Figure at 0x7fa7c6f39390>"
      ]
     },
     "metadata": {},
     "output_type": "display_data"
    }
   ],
   "source": [
    "# Start to do the Linear Regression Models on these 3 variables (cirtic reviews / audience reviews / Profit): \n",
    "\n",
    "# audience reviews vs. profit\n",
    "reg_audience = stats.linregress(wiki_join_rt['audience_percent'], wiki_join_rt['profit'])\n",
    "plt.plot(wiki_join_rt['audience_percent'], wiki_join_rt['profit'],'b.')\n",
    "plt.plot(wiki_join_rt['audience_percent'], reg_audience.slope*wiki_join_rt['audience_percent']+reg_audience.intercept, 'r-')\n",
    "plt.title('Movies Profit vs. Audience reviews')\n",
    "plt.xlabel('audience percent (out of 100)')\n",
    "plt.ylabel('profit (boxoffice - cost)')\n",
    "\n",
    "residuals_audience = wiki_join_rt['profit'] - (reg_audience.slope*wiki_join_rt['audience_percent'] + reg_audience.intercept)\n",
    "print(reg_audience.slope, reg_audience.intercept)\n",
    "print(reg_audience.pvalue)\n",
    "print(reg_audience.rvalue)\n",
    "print(reg_audience.rvalue**2)"
   ]
  },
  {
   "cell_type": "code",
   "execution_count": 7,
   "metadata": {
    "scrolled": true
   },
   "outputs": [
    {
     "data": {
      "text/plain": [
       "(array([211., 467.,  97.,  26.,   9.,   3.,   2.,   0.,   1.,   1.]),\n",
       " array([-6.19100744e+08, -2.03240045e+08,  2.12620654e+08,  6.28481353e+08,\n",
       "         1.04434205e+09,  1.46020275e+09,  1.87606345e+09,  2.29192415e+09,\n",
       "         2.70778485e+09,  3.12364555e+09,  3.53950625e+09]),\n",
       " <a list of 10 Patch objects>)"
      ]
     },
     "execution_count": 7,
     "metadata": {},
     "output_type": "execute_result"
    },
    {
     "data": {
      "image/png": "[encoded data removed]",
      "text/plain": [
       "<matplotlib.figure.Figure at 0x7fa7c629a400>"
      ]
     },
     "metadata": {},
     "output_type": "display_data"
    }
   ],
   "source": [
    "plt.hist(residuals_audience)"
   ]
  },
  {
   "cell_type": "code",
   "execution_count": 8,
   "metadata": {},
   "outputs": [
    {
     "name": "stdout",
     "output_type": "stream",
     "text": [
      "3388266.2845122963 19221161.71489668\n",
      "1.1519241665977754e-11\n",
      "0.2344581455653142\n",
      "0.05497062202192606\n"
     ]
    },
    {
     "data": {
      "image/png": "[encoded data removed]",
      "text/plain": [
       "<matplotlib.figure.Figure at 0x7fa7c685d128>"
      ]
     },
     "metadata": {},
     "output_type": "display_data"
    }
   ],
   "source": [
    "# critic reviews vs. profit\n",
    "reg_critic = stats.linregress(wiki_join_rt['critic_percent'], wiki_join_rt['profit'])\n",
    "plt.plot(wiki_join_rt['critic_percent'], wiki_join_rt['profit'],'b.')\n",
    "plt.plot(wiki_join_rt['critic_percent'], reg_critic.slope*wiki_join_rt['critic_percent']+reg_critic.intercept, 'r-')\n",
    "plt.title('Movies Profit vs. Critic reviews')\n",
    "plt.xlabel('Critic percent (out of 100)')\n",
    "plt.ylabel('profit (boxoffice - cost)')\n",
    "\n",
    "residuals_critic = wiki_join_rt['profit'] - (reg_critic.slope*wiki_join_rt['critic_percent'] + reg_critic.intercept)\n",
    "print(reg_critic.slope, reg_critic.intercept)\n",
    "print(reg_critic.pvalue)\n",
    "print(reg_critic.rvalue)\n",
    "print(reg_critic.rvalue**2)"
   ]
  },
  {
   "cell_type": "code",
   "execution_count": 9,
   "metadata": {},
   "outputs": [
    {
     "data": {
      "text/plain": [
       "(array([231., 443.,  96.,  29.,   9.,   5.,   1.,   1.,   0.,   2.]),\n",
       " array([-6.04582513e+08, -1.97608921e+08,  2.09364671e+08,  6.16338263e+08,\n",
       "         1.02331186e+09,  1.43028545e+09,  1.83725904e+09,  2.24423263e+09,\n",
       "         2.65120622e+09,  3.05817982e+09,  3.46515341e+09]),\n",
       " <a list of 10 Patch objects>)"
      ]
     },
     "execution_count": 9,
     "metadata": {},
     "output_type": "execute_result"
    },
    {
     "data": {
      "image/png": "[encoded data removed]",
      "text/plain": [
       "<matplotlib.figure.Figure at 0x7fa7c681e1d0>"
      ]
     },
     "metadata": {},
     "output_type": "display_data"
    }
   ],
   "source": [
    "plt.hist(residuals_critic)"
   ]
  },
  {
   "cell_type": "code",
   "execution_count": 10,
   "metadata": {},
   "outputs": [
    {
     "name": "stdout",
     "output_type": "stream",
     "text": [
      "0.5770942170136605 30.701910573828116\n",
      "3.268425159168612e-183\n",
      "0.8002815315143735\n",
      "0.6404505296829912\n"
     ]
    },
    {
     "data": {
      "image/png": "[encoded data removed]",
      "text/plain": [
       "<matplotlib.figure.Figure at 0x7fa7c63f6fd0>"
      ]
     },
     "metadata": {},
     "output_type": "display_data"
    }
   ],
   "source": [
    "# audience reviews vs. critic reviews\n",
    "reg_reviews = stats.linregress(wiki_join_rt['critic_percent'], wiki_join_rt['audience_percent'])\n",
    "plt.plot(wiki_join_rt['critic_percent'], wiki_join_rt['audience_percent'],'b.')\n",
    "plt.plot(wiki_join_rt['critic_percent'], reg_reviews.slope*wiki_join_rt['critic_percent']+reg_reviews.intercept, 'r-')\n",
    "plt.title('Audience reviews vs. Critic reviews')\n",
    "plt.xlabel('Critic percent (out of 100)')\n",
    "plt.ylabel('Audience percent (out of 100)')\n",
    "\n",
    "residuals_reviews = wiki_join_rt['audience_percent'] - (reg_reviews.slope*wiki_join_rt['critic_percent'] + reg_reviews.intercept)\n",
    "print(reg_reviews.slope, reg_reviews.intercept)\n",
    "print(reg_reviews.pvalue)\n",
    "print(reg_reviews.rvalue)\n",
    "print(reg_reviews.rvalue**2)"
   ]
  },
  {
   "cell_type": "code",
   "execution_count": 11,
   "metadata": {},
   "outputs": [
    {
     "data": {
      "text/plain": [
       "(array([  8.,  27.,  46., 119., 177., 256., 134.,  30.,  13.,   7.]),\n",
       " array([-37.48620167, -29.93905521, -22.39190875, -14.84476229,\n",
       "         -7.29761584,   0.24953062,   7.79667708,  15.34382354,\n",
       "         22.89097   ,  30.43811646,  37.98526292]),\n",
       " <a list of 10 Patch objects>)"
      ]
     },
     "execution_count": 11,
     "metadata": {},
     "output_type": "execute_result"
    },
    {
     "data": {
      "image/png": "[encoded data removed]",
      "text/plain": [
       "<matplotlib.figure.Figure at 0x7fa7c6349a20>"
      ]
     },
     "metadata": {},
     "output_type": "display_data"
    }
   ],
   "source": [
    "plt.hist(residuals_reviews)"
   ]
  },
  {
   "cell_type": "code",
   "execution_count": 12,
   "metadata": {
    "scrolled": true
   },
   "outputs": [
    {
     "data": {
      "text/html": [
       "<div>\n",
       "<style scoped>\n",
       "    .dataframe tbody tr th:only-of-type {\n",
       "        vertical-align: middle;\n",
       "    }\n",
       "\n",
       "    .dataframe tbody tr th {\n",
       "        vertical-align: top;\n",
       "    }\n",
       "\n",
       "    .dataframe thead th {\n",
       "        text-align: right;\n",
       "    }\n",
       "</style>\n",
       "<table border=\"1\" class=\"dataframe\">\n",
       "  <thead>\n",
       "    <tr style=\"text-align: right;\">\n",
       "      <th></th>\n",
       "      <th>audience_average</th>\n",
       "      <th>audience_percent</th>\n",
       "      <th>critic_average</th>\n",
       "      <th>critic_percent</th>\n",
       "    </tr>\n",
       "  </thead>\n",
       "  <tbody>\n",
       "    <tr>\n",
       "      <th>audience_average</th>\n",
       "      <td>1.000000</td>\n",
       "      <td>0.902685</td>\n",
       "      <td>0.699100</td>\n",
       "      <td>0.668439</td>\n",
       "    </tr>\n",
       "    <tr>\n",
       "      <th>audience_percent</th>\n",
       "      <td>0.902685</td>\n",
       "      <td>1.000000</td>\n",
       "      <td>0.712904</td>\n",
       "      <td>0.687225</td>\n",
       "    </tr>\n",
       "    <tr>\n",
       "      <th>critic_average</th>\n",
       "      <td>0.699100</td>\n",
       "      <td>0.712904</td>\n",
       "      <td>1.000000</td>\n",
       "      <td>0.932374</td>\n",
       "    </tr>\n",
       "    <tr>\n",
       "      <th>critic_percent</th>\n",
       "      <td>0.668439</td>\n",
       "      <td>0.687225</td>\n",
       "      <td>0.932374</td>\n",
       "      <td>1.000000</td>\n",
       "    </tr>\n",
       "  </tbody>\n",
       "</table>\n",
       "</div>"
      ],
      "text/plain": [
       "                  audience_average  audience_percent  critic_average  \\\n",
       "audience_average          1.000000          0.902685        0.699100   \n",
       "audience_percent          0.902685          1.000000        0.712904   \n",
       "critic_average            0.699100          0.712904        1.000000   \n",
       "critic_percent            0.668439          0.687225        0.932374   \n",
       "\n",
       "                  critic_percent  \n",
       "audience_average        0.668439  \n",
       "audience_percent        0.687225  \n",
       "critic_average          0.932374  \n",
       "critic_percent          1.000000  "
      ]
     },
     "execution_count": 12,
     "metadata": {},
     "output_type": "execute_result"
    }
   ],
   "source": [
    "rt_reviewsOnly = rt.drop(['rotten_tomatoes_id','imdb_id', 'audience_ratings'],axis=1)\n",
    "rt_reviewsOnly.corr()"
   ]
  },
  {
   "cell_type": "code",
   "execution_count": null,
   "metadata": {},
   "outputs": [],
   "source": []
  },
  {
   "cell_type": "code",
   "execution_count": null,
   "metadata": {},
   "outputs": [],
   "source": []
  },
  {
   "cell_type": "code",
   "execution_count": 13,
   "metadata": {},
   "outputs": [
    {
     "data": {
      "text/plain": [
       "[<matplotlib.lines.Line2D at 0x7fa7c61c90f0>]"
      ]
     },
     "execution_count": 13,
     "metadata": {},
     "output_type": "execute_result"
    },
    {
     "data": {
      "image/png": "[encoded data removed]",
      "text/plain": [
       "<matplotlib.figure.Figure at 0x7fa7c6294588>"
      ]
     },
     "metadata": {},
     "output_type": "display_data"
    }
   ],
   "source": [
    "rate_fit = stats.linregress(wiki_join_rt['year'], wiki_join_rt['profit_rate'])\n",
    "# blair_witch_project = wiki_join_rt[wiki_join_rt['profit_rate'] > 500]\n",
    "# Actually, there's just 1 movie with super high rate of capitual return after the correction - \"Blair Witch Project\"\n",
    "wiki_join_rt = wiki_join_rt[wiki_join_rt['profit_rate'] < 500]\n",
    "wiki_join_rt['prediction'] = rate_fit.slope*wiki_join_rt['year'] + rate_fit.intercept\n",
    "plt.plot(wiki_join_rt['year'], wiki_join_rt['profit_rate'], 'b.')\n",
    "plt.plot(wiki_join_rt['year'], wiki_join_rt['prediction'],'r-')"
   ]
  },
  {
   "cell_type": "code",
   "execution_count": null,
   "metadata": {},
   "outputs": [],
   "source": []
  },
  {
   "cell_type": "code",
   "execution_count": null,
   "metadata": {},
   "outputs": [],
   "source": []
  },
  {
   "cell_type": "markdown",
   "metadata": {},
   "source": [
    "****2. Sentiment Score (Q5)****"
   ]
  },
  {
   "cell_type": "code",
   "execution_count": 14,
   "metadata": {},
   "outputs": [
    {
     "data": {
      "text/plain": [
       "{'Action': -2.23,\n",
       " 'Adult': -1.0,\n",
       " 'Adventure': -1.38,\n",
       " 'Animation': -0.95,\n",
       " 'Biography': -0.26,\n",
       " 'Comedy': -0.9,\n",
       " 'Crime': -2.74,\n",
       " 'Documentary': -0.03,\n",
       " 'Drama': -1.38,\n",
       " 'Family': -0.37,\n",
       " 'Fantasy': -1.74,\n",
       " 'Film-Noir': -2.85,\n",
       " 'History': -1.1,\n",
       " 'Horror': -3.31,\n",
       " 'Music': 0.1,\n",
       " 'Musical': 0.01,\n",
       " 'Mystery': -2.95,\n",
       " 'N/A': -1.0,\n",
       " 'News': -0.24,\n",
       " 'Romance': -0.2,\n",
       " 'Sci-Fi': -2.38,\n",
       " 'Short': -0.92,\n",
       " 'Sport': 0.76,\n",
       " 'Talk-Show': -3.0,\n",
       " 'Thriller': -2.86,\n",
       " 'War': -1.5,\n",
       " 'Western': -1.86}"
      ]
     },
     "execution_count": 14,
     "metadata": {},
     "output_type": "execute_result"
    }
   ],
   "source": [
    "neg = open('negative-words.txt', 'r',encoding = \"ISO-8859-1\")\n",
    "neg_lines = neg.readlines()\n",
    "neg_lines = [x.replace('\\n', '') for x in neg_lines]\n",
    "# line_num = len(lines)\n",
    "# print(lines)\n",
    "# print(line_num)\n",
    "\n",
    "pos = open('positive-words.txt', 'r',encoding = \"ISO-8859-1\")\n",
    "pos_lines = pos.readlines()\n",
    "pos_lines = [x.replace('\\n', '') for x in pos_lines]\n",
    "\n",
    "# omdb = omdb.dropna(subset = ['omdb_plot'])\n",
    "# Actually, there is no difference. Every movie has a plot summary\n",
    "\n",
    "def getSentimentScore(movie):\n",
    "    # remove any punctuations, and transfer to lowercase\n",
    "    tokenizer = RegexpTokenizer(r'\\w+')\n",
    "    movie = tokenizer.tokenize(movie)\n",
    "    movie = [x.lower() for x in movie]\n",
    "    \n",
    "    pos_score = 0\n",
    "    neg_score = 0\n",
    "    pos = pos_lines\n",
    "    neg = neg_lines\n",
    "    score = 0\n",
    "    \n",
    "    for i in movie:\n",
    "        if i in pos:\n",
    "            pos_score = pos_score + 1\n",
    "                \n",
    "    for j in movie:\n",
    "        if j in neg:\n",
    "            neg_score = neg_score - 1\n",
    "\n",
    "    score = pos_score + neg_score\n",
    "    return score\n",
    "\n",
    "omdb['Sentimentscore'] = omdb['omdb_plot'].apply(getSentimentScore)\n",
    "genre_list = omdb['omdb_genres'].tolist()\n",
    "score_list = omdb['Sentimentscore'].tolist()\n",
    "\n",
    "# To get a list containing all genres (there are 27 different types)\n",
    "genre = []\n",
    "for i in genre_list:\n",
    "    for j in i:\n",
    "        if j not in genre:\n",
    "            genre.append(j)\n",
    "\n",
    "# Use this 2-d array to mark the sentiment score\n",
    "twoD_array = [x[:] for x in [[0] * len(genre)] * omdb.shape[0]] \n",
    "for i in range(omdb.shape[0]):\n",
    "    temp_genres = omdb['omdb_genres'][i]\n",
    "    temp_score = omdb['Sentimentscore'][i]\n",
    "    for j in temp_genres:\n",
    "        index = 0\n",
    "        while j != genre[index]:\n",
    "            index = index + 1\n",
    "        twoD_array[i][index] = temp_score\n",
    "        \n",
    "        \n",
    "# Calculate the total sentiment score for each genre\n",
    "# However, there are different numbers on each movie genre. We need to do a correction.\n",
    "total_scores = [ sum(x) for x in zip(*twoD_array) ]\n",
    "\n",
    "\n",
    "# bb = np.array(twoD_array)\n",
    "# np.shape(bb)\n",
    "# it shows (9676,27), which means there are 9676 records and 27 genres\n",
    "\n",
    "# See how many records on each movie genre:\n",
    "genre_records = [0]* len(genre)\n",
    "for i in range(omdb.shape[0]):\n",
    "    for j in range(len(genre)):     # len(genre)\n",
    "        if twoD_array[i][j] != 0:\n",
    "            # there is a score (record) on this genre\n",
    "            genre_records[j] = genre_records[j] + 1\n",
    "            \n",
    "# Do the correction: total scores / total records. Get the average sentiment score\n",
    "corr_score = np.array(total_scores) / np.array(genre_records)\n",
    "corr_score = corr_score.round(2)\n",
    "Score_dictionary = dict(zip(genre, corr_score))\n",
    "Score_dictionary"
   ]
  },
  {
   "cell_type": "code",
   "execution_count": 15,
   "metadata": {},
   "outputs": [],
   "source": [
    "# Citations (positive and negative words txt)added: \n",
    "# ;;;;;;;;;;;;;;;;;;;;;;;;;;;;;;;;;;;;;;;;;;;;;;;;;;;;;;;;;;;;;;;;;;;;;;;;;;;;\n",
    "# ; \n",
    "# ; Opinion Lexicon: Positive\n",
    "# ;\n",
    "# ; This file contains a list of POSITIVE opinion words (or sentiment words).\n",
    "# ;\n",
    "# ; This file and the papers can all be downloaded from \n",
    "# ;    http://www.cs.uic.edu/~liub/FBS/sentiment-analysis.html\n",
    "# ;\n",
    "# ; If you use this list, please cite one of the following two papers:\n",
    "# ;\n",
    "# ;   Minqing Hu and Bing Liu. \"Mining and Summarizing Customer Reviews.\" \n",
    "# ;       Proceedings of the ACM SIGKDD International Conference on Knowledge \n",
    "# ;       Discovery and Data Mining (KDD-2004), Aug 22-25, 2004, Seattle, \n",
    "# ;       Washington, USA, \n",
    "# ;   Bing Liu, Minqing Hu and Junsheng Cheng. \"Opinion Observer: Analyzing \n",
    "# ;       and Comparing Opinions on the Web.\" Proceedings of the 14th \n",
    "# ;       International World Wide Web conference (WWW-2005), May 10-14, \n",
    "# ;       2005, Chiba, Japan.\n",
    "# ;\n",
    "# ; Notes: \n",
    "# ;    1. The appearance of an opinion word in a sentence does not necessarily  \n",
    "# ;       mean that the sentence expresses a positive or negative opinion. \n",
    "# ;       See the paper below:\n",
    "# ;\n",
    "# ;       Bing Liu. \"Sentiment Analysis and Subjectivity.\" An chapter in \n",
    "# ;          Handbook of Natural Language Processing, Second Edition, \n",
    "# ;          (editors: N. Indurkhya and F. J. Damerau), 2010.\n",
    "# ;\n",
    "# ;    2. You will notice many misspelled words in the list. They are not \n",
    "# ;       mistakes. They are included as these misspelled words appear \n",
    "# ;       frequently in social media content. \n",
    "# ;\n",
    "# ;;;;;;;;;;;;;;;;;;;;;;;;;;;;;;;;;;;;;;;;;;;;;;;;;;;;;;;;;;;;;;;;;;;;;;;;;;;;"
   ]
  },
  {
   "cell_type": "markdown",
   "metadata": {},
   "source": [
    "****3. Machine Learning (Q1)****"
   ]
  },
  {
   "cell_type": "code",
   "execution_count": 16,
   "metadata": {},
   "outputs": [],
   "source": [
    "def model_test(model,X_test,y_test,a):\n",
    "    # Using model \"model\" and input data \"X_test\", \"y_test\"\n",
    "    accept = 0\n",
    "    real = np.asarray(y_test, dtype=\"float64\")\n",
    "    predict = np.asarray(model.predict(X_test), dtype=\"float64\")\n",
    "    difference = np.absolute(real - predict)\n",
    "    for i in range(real.size):\n",
    "        if difference[i] <= a:\n",
    "            accept = accept + 1\n",
    "    score = accept/difference.size\n",
    "    print ('The test score is: ', score)\n",
    "    return score"
   ]
  },
  {
   "cell_type": "code",
   "execution_count": 17,
   "metadata": {},
   "outputs": [],
   "source": [
    "# Do the min/max scaler manually. \n",
    "# Put all ratings score to dimension 0-100\n",
    "wiki_join_rt['critic_average'] = wiki_join_rt['critic_average']*10\n",
    "X = wiki_join_rt[['audience_percent','critic_average','critic_percent']]"
   ]
  },
  {
   "cell_type": "code",
   "execution_count": 18,
   "metadata": {},
   "outputs": [],
   "source": [
    "wiki_join_rt['audience_average'] = wiki_join_rt['audience_average']*20\n",
    "y = wiki_join_rt['audience_average'].values.astype('int')"
   ]
  },
  {
   "cell_type": "code",
   "execution_count": 19,
   "metadata": {},
   "outputs": [],
   "source": [
    "X_train, X_test, y_train, y_test = train_test_split(X,y)"
   ]
  },
  {
   "cell_type": "code",
   "execution_count": 20,
   "metadata": {},
   "outputs": [
    {
     "name": "stdout",
     "output_type": "stream",
     "text": [
      "The test score is:  0.7107843137254902\n"
     ]
    },
    {
     "data": {
      "text/plain": [
       "0.7107843137254902"
      ]
     },
     "execution_count": 20,
     "metadata": {},
     "output_type": "execute_result"
    }
   ],
   "source": [
    "bayes_model = make_pipeline(\n",
    "    StandardScaler(),\n",
    "    GaussianNB()\n",
    ")\n",
    "bayes_model.fit(X_train, y_train)\n",
    "model_test(bayes_model, X_test, y_test, 4)"
   ]
  },
  {
   "cell_type": "code",
   "execution_count": 21,
   "metadata": {},
   "outputs": [
    {
     "name": "stdout",
     "output_type": "stream",
     "text": [
      "The test score is:  0.6078431372549019\n"
     ]
    },
    {
     "data": {
      "text/plain": [
       "0.6078431372549019"
      ]
     },
     "execution_count": 21,
     "metadata": {},
     "output_type": "execute_result"
    }
   ],
   "source": [
    "knn_model = make_pipeline(\n",
    "    StandardScaler(),\n",
    "    KNeighborsClassifier(n_neighbors=10)\n",
    ")\n",
    "knn_model.fit(X_train, y_train)\n",
    "model_test(knn_model, X_test, y_test, 4)"
   ]
  },
  {
   "cell_type": "code",
   "execution_count": 22,
   "metadata": {},
   "outputs": [
    {
     "name": "stdout",
     "output_type": "stream",
     "text": [
      "The test score is:  0.75\n"
     ]
    },
    {
     "data": {
      "text/plain": [
       "0.75"
      ]
     },
     "execution_count": 22,
     "metadata": {},
     "output_type": "execute_result"
    }
   ],
   "source": [
    "svc_model = make_pipeline(\n",
    "    StandardScaler(),\n",
    "    SVC(kernel='linear',C=2)\n",
    ")\n",
    "svc_model.fit(X_train, y_train)\n",
    "model_test(svc_model, X_test, y_test, 4)"
   ]
  },
  {
   "cell_type": "code",
   "execution_count": 23,
   "metadata": {},
   "outputs": [
    {
     "data": {
      "text/html": [
       "<div>\n",
       "<style scoped>\n",
       "    .dataframe tbody tr th:only-of-type {\n",
       "        vertical-align: middle;\n",
       "    }\n",
       "\n",
       "    .dataframe tbody tr th {\n",
       "        vertical-align: top;\n",
       "    }\n",
       "\n",
       "    .dataframe thead th {\n",
       "        text-align: right;\n",
       "    }\n",
       "</style>\n",
       "<table border=\"1\" class=\"dataframe\">\n",
       "  <thead>\n",
       "    <tr style=\"text-align: right;\">\n",
       "      <th></th>\n",
       "      <th>audience_percent</th>\n",
       "      <th>critic_average</th>\n",
       "      <th>critic_percent</th>\n",
       "    </tr>\n",
       "  </thead>\n",
       "  <tbody>\n",
       "    <tr>\n",
       "      <th>0</th>\n",
       "      <td>81.0</td>\n",
       "      <td>70.0</td>\n",
       "      <td>75.0</td>\n",
       "    </tr>\n",
       "    <tr>\n",
       "      <th>1</th>\n",
       "      <td>69.0</td>\n",
       "      <td>59.0</td>\n",
       "      <td>56.0</td>\n",
       "    </tr>\n",
       "    <tr>\n",
       "      <th>2</th>\n",
       "      <td>90.0</td>\n",
       "      <td>68.0</td>\n",
       "      <td>73.0</td>\n",
       "    </tr>\n",
       "    <tr>\n",
       "      <th>3</th>\n",
       "      <td>87.0</td>\n",
       "      <td>82.0</td>\n",
       "      <td>93.0</td>\n",
       "    </tr>\n",
       "    <tr>\n",
       "      <th>4</th>\n",
       "      <td>57.0</td>\n",
       "      <td>50.0</td>\n",
       "      <td>42.0</td>\n",
       "    </tr>\n",
       "    <tr>\n",
       "      <th>5</th>\n",
       "      <td>95.0</td>\n",
       "      <td>85.0</td>\n",
       "      <td>97.0</td>\n",
       "    </tr>\n",
       "    <tr>\n",
       "      <th>6</th>\n",
       "      <td>93.0</td>\n",
       "      <td>84.0</td>\n",
       "      <td>93.0</td>\n",
       "    </tr>\n",
       "    <tr>\n",
       "      <th>7</th>\n",
       "      <td>72.0</td>\n",
       "      <td>82.0</td>\n",
       "      <td>90.0</td>\n",
       "    </tr>\n",
       "    <tr>\n",
       "      <th>8</th>\n",
       "      <td>69.0</td>\n",
       "      <td>80.0</td>\n",
       "      <td>88.0</td>\n",
       "    </tr>\n",
       "    <tr>\n",
       "      <th>9</th>\n",
       "      <td>95.0</td>\n",
       "      <td>90.0</td>\n",
       "      <td>100.0</td>\n",
       "    </tr>\n",
       "    <tr>\n",
       "      <th>10</th>\n",
       "      <td>43.0</td>\n",
       "      <td>58.0</td>\n",
       "      <td>49.0</td>\n",
       "    </tr>\n",
       "    <tr>\n",
       "      <th>11</th>\n",
       "      <td>91.0</td>\n",
       "      <td>82.0</td>\n",
       "      <td>98.0</td>\n",
       "    </tr>\n",
       "    <tr>\n",
       "      <th>12</th>\n",
       "      <td>58.0</td>\n",
       "      <td>65.0</td>\n",
       "      <td>67.0</td>\n",
       "    </tr>\n",
       "    <tr>\n",
       "      <th>13</th>\n",
       "      <td>85.0</td>\n",
       "      <td>84.0</td>\n",
       "      <td>95.0</td>\n",
       "    </tr>\n",
       "    <tr>\n",
       "      <th>14</th>\n",
       "      <td>63.0</td>\n",
       "      <td>67.0</td>\n",
       "      <td>71.0</td>\n",
       "    </tr>\n",
       "    <tr>\n",
       "      <th>15</th>\n",
       "      <td>52.0</td>\n",
       "      <td>44.0</td>\n",
       "      <td>17.0</td>\n",
       "    </tr>\n",
       "    <tr>\n",
       "      <th>16</th>\n",
       "      <td>86.0</td>\n",
       "      <td>87.0</td>\n",
       "      <td>93.0</td>\n",
       "    </tr>\n",
       "    <tr>\n",
       "      <th>17</th>\n",
       "      <td>81.0</td>\n",
       "      <td>71.0</td>\n",
       "      <td>74.0</td>\n",
       "    </tr>\n",
       "    <tr>\n",
       "      <th>18</th>\n",
       "      <td>39.0</td>\n",
       "      <td>41.0</td>\n",
       "      <td>20.0</td>\n",
       "    </tr>\n",
       "    <tr>\n",
       "      <th>19</th>\n",
       "      <td>82.0</td>\n",
       "      <td>82.0</td>\n",
       "      <td>87.0</td>\n",
       "    </tr>\n",
       "    <tr>\n",
       "      <th>20</th>\n",
       "      <td>80.0</td>\n",
       "      <td>77.0</td>\n",
       "      <td>90.0</td>\n",
       "    </tr>\n",
       "    <tr>\n",
       "      <th>21</th>\n",
       "      <td>90.0</td>\n",
       "      <td>80.0</td>\n",
       "      <td>87.0</td>\n",
       "    </tr>\n",
       "    <tr>\n",
       "      <th>22</th>\n",
       "      <td>91.0</td>\n",
       "      <td>74.0</td>\n",
       "      <td>88.0</td>\n",
       "    </tr>\n",
       "    <tr>\n",
       "      <th>23</th>\n",
       "      <td>89.0</td>\n",
       "      <td>71.0</td>\n",
       "      <td>76.0</td>\n",
       "    </tr>\n",
       "    <tr>\n",
       "      <th>24</th>\n",
       "      <td>57.0</td>\n",
       "      <td>57.0</td>\n",
       "      <td>49.0</td>\n",
       "    </tr>\n",
       "    <tr>\n",
       "      <th>25</th>\n",
       "      <td>48.0</td>\n",
       "      <td>66.0</td>\n",
       "      <td>71.0</td>\n",
       "    </tr>\n",
       "    <tr>\n",
       "      <th>26</th>\n",
       "      <td>71.0</td>\n",
       "      <td>64.0</td>\n",
       "      <td>72.0</td>\n",
       "    </tr>\n",
       "    <tr>\n",
       "      <th>27</th>\n",
       "      <td>92.0</td>\n",
       "      <td>89.0</td>\n",
       "      <td>97.0</td>\n",
       "    </tr>\n",
       "    <tr>\n",
       "      <th>28</th>\n",
       "      <td>60.0</td>\n",
       "      <td>57.0</td>\n",
       "      <td>50.0</td>\n",
       "    </tr>\n",
       "    <tr>\n",
       "      <th>29</th>\n",
       "      <td>59.0</td>\n",
       "      <td>46.0</td>\n",
       "      <td>37.0</td>\n",
       "    </tr>\n",
       "    <tr>\n",
       "      <th>...</th>\n",
       "      <td>...</td>\n",
       "      <td>...</td>\n",
       "      <td>...</td>\n",
       "    </tr>\n",
       "    <tr>\n",
       "      <th>845</th>\n",
       "      <td>24.0</td>\n",
       "      <td>54.0</td>\n",
       "      <td>45.0</td>\n",
       "    </tr>\n",
       "    <tr>\n",
       "      <th>846</th>\n",
       "      <td>33.0</td>\n",
       "      <td>63.0</td>\n",
       "      <td>60.0</td>\n",
       "    </tr>\n",
       "    <tr>\n",
       "      <th>847</th>\n",
       "      <td>76.0</td>\n",
       "      <td>47.0</td>\n",
       "      <td>25.0</td>\n",
       "    </tr>\n",
       "    <tr>\n",
       "      <th>848</th>\n",
       "      <td>47.0</td>\n",
       "      <td>40.0</td>\n",
       "      <td>23.0</td>\n",
       "    </tr>\n",
       "    <tr>\n",
       "      <th>849</th>\n",
       "      <td>87.0</td>\n",
       "      <td>89.0</td>\n",
       "      <td>97.0</td>\n",
       "    </tr>\n",
       "    <tr>\n",
       "      <th>851</th>\n",
       "      <td>47.0</td>\n",
       "      <td>50.0</td>\n",
       "      <td>30.0</td>\n",
       "    </tr>\n",
       "    <tr>\n",
       "      <th>853</th>\n",
       "      <td>76.0</td>\n",
       "      <td>45.0</td>\n",
       "      <td>29.0</td>\n",
       "    </tr>\n",
       "    <tr>\n",
       "      <th>854</th>\n",
       "      <td>81.0</td>\n",
       "      <td>61.0</td>\n",
       "      <td>61.0</td>\n",
       "    </tr>\n",
       "    <tr>\n",
       "      <th>855</th>\n",
       "      <td>55.0</td>\n",
       "      <td>54.0</td>\n",
       "      <td>40.0</td>\n",
       "    </tr>\n",
       "    <tr>\n",
       "      <th>856</th>\n",
       "      <td>82.0</td>\n",
       "      <td>48.0</td>\n",
       "      <td>37.0</td>\n",
       "    </tr>\n",
       "    <tr>\n",
       "      <th>857</th>\n",
       "      <td>85.0</td>\n",
       "      <td>68.0</td>\n",
       "      <td>75.0</td>\n",
       "    </tr>\n",
       "    <tr>\n",
       "      <th>858</th>\n",
       "      <td>62.0</td>\n",
       "      <td>71.0</td>\n",
       "      <td>84.0</td>\n",
       "    </tr>\n",
       "    <tr>\n",
       "      <th>859</th>\n",
       "      <td>73.0</td>\n",
       "      <td>70.0</td>\n",
       "      <td>84.0</td>\n",
       "    </tr>\n",
       "    <tr>\n",
       "      <th>860</th>\n",
       "      <td>48.0</td>\n",
       "      <td>37.0</td>\n",
       "      <td>20.0</td>\n",
       "    </tr>\n",
       "    <tr>\n",
       "      <th>861</th>\n",
       "      <td>38.0</td>\n",
       "      <td>50.0</td>\n",
       "      <td>24.0</td>\n",
       "    </tr>\n",
       "    <tr>\n",
       "      <th>862</th>\n",
       "      <td>44.0</td>\n",
       "      <td>30.0</td>\n",
       "      <td>11.0</td>\n",
       "    </tr>\n",
       "    <tr>\n",
       "      <th>863</th>\n",
       "      <td>42.0</td>\n",
       "      <td>60.0</td>\n",
       "      <td>58.0</td>\n",
       "    </tr>\n",
       "    <tr>\n",
       "      <th>864</th>\n",
       "      <td>38.0</td>\n",
       "      <td>40.0</td>\n",
       "      <td>16.0</td>\n",
       "    </tr>\n",
       "    <tr>\n",
       "      <th>865</th>\n",
       "      <td>83.0</td>\n",
       "      <td>69.0</td>\n",
       "      <td>93.0</td>\n",
       "    </tr>\n",
       "    <tr>\n",
       "      <th>866</th>\n",
       "      <td>73.0</td>\n",
       "      <td>63.0</td>\n",
       "      <td>75.0</td>\n",
       "    </tr>\n",
       "    <tr>\n",
       "      <th>867</th>\n",
       "      <td>64.0</td>\n",
       "      <td>48.0</td>\n",
       "      <td>36.0</td>\n",
       "    </tr>\n",
       "    <tr>\n",
       "      <th>868</th>\n",
       "      <td>56.0</td>\n",
       "      <td>44.0</td>\n",
       "      <td>32.0</td>\n",
       "    </tr>\n",
       "    <tr>\n",
       "      <th>869</th>\n",
       "      <td>75.0</td>\n",
       "      <td>69.0</td>\n",
       "      <td>81.0</td>\n",
       "    </tr>\n",
       "    <tr>\n",
       "      <th>870</th>\n",
       "      <td>67.0</td>\n",
       "      <td>69.0</td>\n",
       "      <td>78.0</td>\n",
       "    </tr>\n",
       "    <tr>\n",
       "      <th>871</th>\n",
       "      <td>46.0</td>\n",
       "      <td>66.0</td>\n",
       "      <td>70.0</td>\n",
       "    </tr>\n",
       "    <tr>\n",
       "      <th>872</th>\n",
       "      <td>80.0</td>\n",
       "      <td>54.0</td>\n",
       "      <td>52.0</td>\n",
       "    </tr>\n",
       "    <tr>\n",
       "      <th>873</th>\n",
       "      <td>49.0</td>\n",
       "      <td>58.0</td>\n",
       "      <td>56.0</td>\n",
       "    </tr>\n",
       "    <tr>\n",
       "      <th>874</th>\n",
       "      <td>83.0</td>\n",
       "      <td>62.0</td>\n",
       "      <td>62.0</td>\n",
       "    </tr>\n",
       "    <tr>\n",
       "      <th>875</th>\n",
       "      <td>79.0</td>\n",
       "      <td>69.0</td>\n",
       "      <td>73.0</td>\n",
       "    </tr>\n",
       "    <tr>\n",
       "      <th>876</th>\n",
       "      <td>86.0</td>\n",
       "      <td>72.0</td>\n",
       "      <td>84.0</td>\n",
       "    </tr>\n",
       "  </tbody>\n",
       "</table>\n",
       "<p>816 rows × 3 columns</p>\n",
       "</div>"
      ],
      "text/plain": [
       "     audience_percent  critic_average  critic_percent\n",
       "0                81.0            70.0            75.0\n",
       "1                69.0            59.0            56.0\n",
       "2                90.0            68.0            73.0\n",
       "3                87.0            82.0            93.0\n",
       "4                57.0            50.0            42.0\n",
       "5                95.0            85.0            97.0\n",
       "6                93.0            84.0            93.0\n",
       "7                72.0            82.0            90.0\n",
       "8                69.0            80.0            88.0\n",
       "9                95.0            90.0           100.0\n",
       "10               43.0            58.0            49.0\n",
       "11               91.0            82.0            98.0\n",
       "12               58.0            65.0            67.0\n",
       "13               85.0            84.0            95.0\n",
       "14               63.0            67.0            71.0\n",
       "15               52.0            44.0            17.0\n",
       "16               86.0            87.0            93.0\n",
       "17               81.0            71.0            74.0\n",
       "18               39.0            41.0            20.0\n",
       "19               82.0            82.0            87.0\n",
       "20               80.0            77.0            90.0\n",
       "21               90.0            80.0            87.0\n",
       "22               91.0            74.0            88.0\n",
       "23               89.0            71.0            76.0\n",
       "24               57.0            57.0            49.0\n",
       "25               48.0            66.0            71.0\n",
       "26               71.0            64.0            72.0\n",
       "27               92.0            89.0            97.0\n",
       "28               60.0            57.0            50.0\n",
       "29               59.0            46.0            37.0\n",
       "..                ...             ...             ...\n",
       "845              24.0            54.0            45.0\n",
       "846              33.0            63.0            60.0\n",
       "847              76.0            47.0            25.0\n",
       "848              47.0            40.0            23.0\n",
       "849              87.0            89.0            97.0\n",
       "851              47.0            50.0            30.0\n",
       "853              76.0            45.0            29.0\n",
       "854              81.0            61.0            61.0\n",
       "855              55.0            54.0            40.0\n",
       "856              82.0            48.0            37.0\n",
       "857              85.0            68.0            75.0\n",
       "858              62.0            71.0            84.0\n",
       "859              73.0            70.0            84.0\n",
       "860              48.0            37.0            20.0\n",
       "861              38.0            50.0            24.0\n",
       "862              44.0            30.0            11.0\n",
       "863              42.0            60.0            58.0\n",
       "864              38.0            40.0            16.0\n",
       "865              83.0            69.0            93.0\n",
       "866              73.0            63.0            75.0\n",
       "867              64.0            48.0            36.0\n",
       "868              56.0            44.0            32.0\n",
       "869              75.0            69.0            81.0\n",
       "870              67.0            69.0            78.0\n",
       "871              46.0            66.0            70.0\n",
       "872              80.0            54.0            52.0\n",
       "873              49.0            58.0            56.0\n",
       "874              83.0            62.0            62.0\n",
       "875              79.0            69.0            73.0\n",
       "876              86.0            72.0            84.0\n",
       "\n",
       "[816 rows x 3 columns]"
      ]
     },
     "execution_count": 23,
     "metadata": {},
     "output_type": "execute_result"
    }
   ],
   "source": [
    "X"
   ]
  },
  {
   "cell_type": "code",
   "execution_count": null,
   "metadata": {},
   "outputs": [],
   "source": []
  }
 ],
 "metadata": {
  "kernelspec": {
   "display_name": "Python 3",
   "language": "python",
   "name": "python3"
  },
  "language_info": {
   "codemirror_mode": {
    "name": "ipython",
    "version": 3
   },
   "file_extension": ".py",
   "mimetype": "text/x-python",
   "name": "python",
   "nbconvert_exporter": "python",
   "pygments_lexer": "ipython3",
   "version": "3.7.3"
  }
 },
 "nbformat": 4,
 "nbformat_minor": 2
}

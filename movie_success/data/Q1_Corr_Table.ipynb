{
 "cells": [
  {
   "cell_type": "code",
   "execution_count": 9,
   "metadata": {},
   "outputs": [],
   "source": [
    "# Do the various criteria for success (critic reviews, audience reviews, profit/loss) correlate with each other?\n",
    "# Is there something you can say about better or worse kinds of “success”? \n",
    "import numpy as np\n",
    "import pandas as pd\n",
    "import matplotlib.pyplot as plt\n",
    "from sklearn.pipeline import make_pipeline\n",
    "from sklearn.model_selection import train_test_split\n",
    "from sklearn.metrics import accuracy_score\n",
    "from sklearn.linear_model import LinearRegression\n",
    "from sklearn.preprocessing import PolynomialFeatures\n",
    "from scipy import stats\n"
   ]
  },
  {
   "cell_type": "code",
   "execution_count": 10,
   "metadata": {},
   "outputs": [],
   "source": [
    "roto = pd.read_json('rotten-tomatoes.json.gz', orient='record', lines=True)\n",
    "roto = roto.drop(['rotten_tomatoes_id','imdb_id'],axis=1)  # Focus on rating, review and critic\n",
    "roto = roto.dropna(how = 'any')  # Some rows have missing attributes, therefore cannot be used as data points\n",
    "# roto"
   ]
  },
  {
   "cell_type": "code",
   "execution_count": 11,
   "metadata": {},
   "outputs": [],
   "source": [
    "# plt.scatter(roto['audience_average'],roto['audience_percent'])  # strong positive trend\n",
    "# plt.scatter(roto['audience_average'],roto['critic_average'])    # positive trend\n",
    "# plt.scatter(roto['audience_average'],roto['critic_percent'])    # weak positive trend\n",
    "# plt.scatter(roto['audience_percent'],roto['critic_average'])    # positive trend\n",
    "# plt.scatter(roto['audience_percent'],roto['critic_percent'])    # positive trend\n",
    "# plt.scatter(roto['critic_average'],roto['critic_percent'])      # strong positive trend"
   ]
  },
  {
   "cell_type": "code",
   "execution_count": 12,
   "metadata": {},
   "outputs": [
    {
     "data": {
      "text/html": [
       "<div>\n",
       "<style scoped>\n",
       "    .dataframe tbody tr th:only-of-type {\n",
       "        vertical-align: middle;\n",
       "    }\n",
       "\n",
       "    .dataframe tbody tr th {\n",
       "        vertical-align: top;\n",
       "    }\n",
       "\n",
       "    .dataframe thead th {\n",
       "        text-align: right;\n",
       "    }\n",
       "</style>\n",
       "<table border=\"1\" class=\"dataframe\">\n",
       "  <thead>\n",
       "    <tr style=\"text-align: right;\">\n",
       "      <th></th>\n",
       "      <th>audience_average</th>\n",
       "      <th>audience_percent</th>\n",
       "      <th>audience_ratings</th>\n",
       "      <th>critic_average</th>\n",
       "      <th>critic_percent</th>\n",
       "    </tr>\n",
       "  </thead>\n",
       "  <tbody>\n",
       "    <tr>\n",
       "      <th>audience_average</th>\n",
       "      <td>1.000000</td>\n",
       "      <td>0.919437</td>\n",
       "      <td>-0.008865</td>\n",
       "      <td>0.699100</td>\n",
       "      <td>0.668439</td>\n",
       "    </tr>\n",
       "    <tr>\n",
       "      <th>audience_percent</th>\n",
       "      <td>0.919437</td>\n",
       "      <td>1.000000</td>\n",
       "      <td>0.017204</td>\n",
       "      <td>0.712904</td>\n",
       "      <td>0.687225</td>\n",
       "    </tr>\n",
       "    <tr>\n",
       "      <th>audience_ratings</th>\n",
       "      <td>-0.008865</td>\n",
       "      <td>0.017204</td>\n",
       "      <td>1.000000</td>\n",
       "      <td>0.019476</td>\n",
       "      <td>0.008831</td>\n",
       "    </tr>\n",
       "    <tr>\n",
       "      <th>critic_average</th>\n",
       "      <td>0.699100</td>\n",
       "      <td>0.712904</td>\n",
       "      <td>0.019476</td>\n",
       "      <td>1.000000</td>\n",
       "      <td>0.933405</td>\n",
       "    </tr>\n",
       "    <tr>\n",
       "      <th>critic_percent</th>\n",
       "      <td>0.668439</td>\n",
       "      <td>0.687225</td>\n",
       "      <td>0.008831</td>\n",
       "      <td>0.933405</td>\n",
       "      <td>1.000000</td>\n",
       "    </tr>\n",
       "  </tbody>\n",
       "</table>\n",
       "</div>"
      ],
      "text/plain": [
       "                  audience_average  audience_percent  audience_ratings  \\\n",
       "audience_average          1.000000          0.919437         -0.008865   \n",
       "audience_percent          0.919437          1.000000          0.017204   \n",
       "audience_ratings         -0.008865          0.017204          1.000000   \n",
       "critic_average            0.699100          0.712904          0.019476   \n",
       "critic_percent            0.668439          0.687225          0.008831   \n",
       "\n",
       "                  critic_average  critic_percent  \n",
       "audience_average        0.699100        0.668439  \n",
       "audience_percent        0.712904        0.687225  \n",
       "audience_ratings        0.019476        0.008831  \n",
       "critic_average          1.000000        0.933405  \n",
       "critic_percent          0.933405        1.000000  "
      ]
     },
     "execution_count": 12,
     "metadata": {},
     "output_type": "execute_result"
    }
   ],
   "source": [
    "# roto\n",
    "roto.corr()"
   ]
  },
  {
   "cell_type": "code",
   "execution_count": 13,
   "metadata": {},
   "outputs": [
    {
     "name": "stdout",
     "output_type": "stream",
     "text": [
      "Accurancy score for linear regression for audience_average and critic_average :  0.4934374143374379\n"
     ]
    }
   ],
   "source": [
    "N =1\n",
    "x = np.array([roto['audience_average']])\n",
    "X = np.stack(x, axis=1)\n",
    "# poly = PolynomialFeatures(degree=1, include_bias=True)\n",
    "# X = poly.fit_transform(x1)\n",
    "y = roto['critic_average']\n",
    "X_train, X_test, y_train, y_test = train_test_split(X, y)\n",
    "\n",
    "regression_model = make_pipeline(\n",
    "    PolynomialFeatures(degree=N, include_bias=True),\n",
    "    LinearRegression(fit_intercept=False)\n",
    ")\n",
    "regression_model.fit(X_train, y_train)\n",
    "s = regression_model.score(X_test, y_test)\n",
    "print(\"Accurancy score for linear regression for audience_average and critic_average : \", s)\n"
   ]
  },
  {
   "cell_type": "code",
   "execution_count": 14,
   "metadata": {},
   "outputs": [
    {
     "name": "stdout",
     "output_type": "stream",
     "text": [
      "Accurancy score for linear regression for audience_average and critic_average :  0.48223866285308303\n"
     ]
    }
   ],
   "source": [
    "N =1\n",
    "x = np.array([roto['audience_percent']])\n",
    "X = np.stack(x, axis=1)\n",
    "# poly = PolynomialFeatures(degree=1, include_bias=True)\n",
    "# X = poly.fit_transform(x1)\n",
    "y = roto['critic_percent']\n",
    "X_train, X_test, y_train, y_test = train_test_split(X, y)\n",
    "\n",
    "regression_model = make_pipeline(\n",
    "    PolynomialFeatures(degree=N, include_bias=True),\n",
    "    LinearRegression(fit_intercept=False)\n",
    ")\n",
    "regression_model.fit(X_train, y_train)\n",
    "s = regression_model.score(X_test, y_test)\n",
    "print(\"Accurancy score for linear regression for audience_average and critic_average : \", s)\n"
   ]
  },
  {
   "cell_type": "code",
   "execution_count": 15,
   "metadata": {},
   "outputs": [
    {
     "name": "stdout",
     "output_type": "stream",
     "text": [
      "0.9665738011509997\n",
      "2.191345782971858\n",
      "0.0\n"
     ]
    }
   ],
   "source": [
    "y = roto['audience_percent']\n",
    "x = roto['critic_percent']\n",
    "regression  = stats.linregress(y, x)\n",
    "roto['prediction'] = x *regression.slope + regression.intercept\n",
    "print(regression.slope)\n",
    "print(regression.intercept)\n",
    "print(regression.pvalue)"
   ]
  },
  {
   "cell_type": "code",
   "execution_count": 16,
   "metadata": {},
   "outputs": [
    {
     "data": {
      "text/plain": [
       "8.575244505338276e-106"
      ]
     },
     "execution_count": 16,
     "metadata": {},
     "output_type": "execute_result"
    },
    {
     "data": {
      "image/png": "[encoded data removed]",
      "text/plain": [
       "<matplotlib.figure.Figure at 0x7f740b42ea58>"
      ]
     },
     "metadata": {},
     "output_type": "display_data"
    }
   ],
   "source": [
    "# plt.plot(roto['critic_percent'],roto['audience_percent'], 'b.', alpha = 0.5)\n",
    "# plt.plot(roto['critic_percent'], roto['prediction'], 'r-', linewidth = 3)\n",
    "# plt.show()\n",
    "plt.hist(roto['audience_percent']-roto['prediction']);\n",
    "stats.normaltest(roto['audience_percent']-roto['prediction']).pvalue"
   ]
  },
  {
   "cell_type": "code",
   "execution_count": null,
   "metadata": {},
   "outputs": [],
   "source": []
  }
 ],
 "metadata": {
  "kernelspec": {
   "display_name": "Python 3",
   "language": "python",
   "name": "python3"
  },
  "language_info": {
   "codemirror_mode": {
    "name": "ipython",
    "version": 3
   },
   "file_extension": ".py",
   "mimetype": "text/x-python",
   "name": "python",
   "nbconvert_exporter": "python",
   "pygments_lexer": "ipython3",
   "version": "3.7.3"
  }
 },
 "nbformat": 4,
 "nbformat_minor": 2
}
